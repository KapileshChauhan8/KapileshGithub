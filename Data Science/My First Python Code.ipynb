{
 "cells": [
  {
   "cell_type": "code",
   "execution_count": 1,
   "id": "bbeb542c",
   "metadata": {},
   "outputs": [
    {
     "name": "stdout",
     "output_type": "stream",
     "text": [
      "Jai Shri Parbhramha\n"
     ]
    }
   ],
   "source": [
    "print(\"Jai Shri Parbhramha\")"
   ]
  },
  {
   "cell_type": "code",
   "execution_count": 3,
   "id": "a77dff20",
   "metadata": {},
   "outputs": [
    {
     "name": "stdout",
     "output_type": "stream",
     "text": [
      "Jai shri Krirshna\n"
     ]
    }
   ],
   "source": [
    "Hello= \"Jai shri Krirshna\"\n",
    "print(Hello)"
   ]
  },
  {
   "cell_type": "code",
   "execution_count": 5,
   "id": "ddf7bfe3",
   "metadata": {},
   "outputs": [
    {
     "name": "stdout",
     "output_type": "stream",
     "text": [
      "Vasudev aur Mahadev\n"
     ]
    }
   ],
   "source": [
    "Sanatan= \"Vasudev aur Mahadev\"\n",
    "print(Sanatan)"
   ]
  },
  {
   "cell_type": "code",
   "execution_count": 8,
   "id": "1e9a03e4",
   "metadata": {},
   "outputs": [
    {
     "name": "stdout",
     "output_type": "stream",
     "text": [
      "x+y\n"
     ]
    }
   ],
   "source": [
    "x=8\n",
    "y=10\n",
    "print('x+y')"
   ]
  },
  {
   "cell_type": "code",
   "execution_count": null,
   "id": "cb8f8be8",
   "metadata": {},
   "outputs": [],
   "source": []
  }
 ],
 "metadata": {
  "kernelspec": {
   "display_name": "Python 3 (ipykernel)",
   "language": "python",
   "name": "python3"
  },
  "language_info": {
   "codemirror_mode": {
    "name": "ipython",
    "version": 3
   },
   "file_extension": ".py",
   "mimetype": "text/x-python",
   "name": "python",
   "nbconvert_exporter": "python",
   "pygments_lexer": "ipython3",
   "version": "3.10.9"
  }
 },
 "nbformat": 4,
 "nbformat_minor": 5
}
